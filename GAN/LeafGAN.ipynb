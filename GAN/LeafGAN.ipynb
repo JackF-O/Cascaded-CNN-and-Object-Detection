{
  "nbformat": 4,
  "nbformat_minor": 0,
  "metadata": {
    "accelerator": "GPU",
    "colab": {
      "name": "LeafGAN.ipynb",
      "provenance": [],
      "collapsed_sections": [],
      "toc_visible": true,
      "mount_file_id": "1ZyhaI2OzfE13deizZjel2pXhmP-ws_U6",
      "authorship_tag": "ABX9TyNOSS63dII2pja6ud6nrzUs",
      "include_colab_link": true
    },
    "kernelspec": {
      "display_name": "Python 3",
      "name": "python3"
    },
    "language_info": {
      "name": "python"
    }
  },
  "cells": [
    {
      "cell_type": "markdown",
      "metadata": {
        "id": "view-in-github",
        "colab_type": "text"
      },
      "source": [
        "<a href=\"https://colab.research.google.com/github/JackF-O/Cascaded-CNN-and-Object-Detection/blob/main/GAN/LeafGAN.ipynb\" target=\"_parent\"><img src=\"https://colab.research.google.com/assets/colab-badge.svg\" alt=\"Open In Colab\"/></a>"
      ]
    },
    {
      "cell_type": "code",
      "metadata": {
        "colab": {
          "base_uri": "https://localhost:8080/"
        },
        "id": "_YZP-AL_2gHY",
        "outputId": "27698b37-3f76-46dc-e1ad-8404ac4d8664"
      },
      "source": [
        "gpu_info = !nvidia-smi\n",
        "gpu_info = '\\n'.join(gpu_info)\n",
        "if gpu_info.find('failed') >= 0:\n",
        "  print('Select the Runtime > \"Change runtime type\" menu to enable a GPU accelerator, ')\n",
        "  print('and then re-execute this cell.')\n",
        "else:\n",
        "  print(gpu_info)"
      ],
      "execution_count": null,
      "outputs": [
        {
          "output_type": "stream",
          "text": [
            "Thu Apr 29 19:25:16 2021       \n",
            "+-----------------------------------------------------------------------------+\n",
            "| NVIDIA-SMI 465.19.01    Driver Version: 460.32.03    CUDA Version: 11.2     |\n",
            "|-------------------------------+----------------------+----------------------+\n",
            "| GPU  Name        Persistence-M| Bus-Id        Disp.A | Volatile Uncorr. ECC |\n",
            "| Fan  Temp  Perf  Pwr:Usage/Cap|         Memory-Usage | GPU-Util  Compute M. |\n",
            "|                               |                      |               MIG M. |\n",
            "|===============================+======================+======================|\n",
            "|   0  Tesla P100-PCIE...  Off  | 00000000:00:04.0 Off |                    0 |\n",
            "| N/A   46C    P0    27W / 250W |      0MiB / 16280MiB |      0%      Default |\n",
            "|                               |                      |                  N/A |\n",
            "+-------------------------------+----------------------+----------------------+\n",
            "                                                                               \n",
            "+-----------------------------------------------------------------------------+\n",
            "| Processes:                                                                  |\n",
            "|  GPU   GI   CI        PID   Type   Process name                  GPU Memory |\n",
            "|        ID   ID                                                   Usage      |\n",
            "|=============================================================================|\n",
            "|  No running processes found                                                 |\n",
            "+-----------------------------------------------------------------------------+\n"
          ],
          "name": "stdout"
        }
      ]
    },
    {
      "cell_type": "markdown",
      "metadata": {
        "id": "JuTPP7lCYKJv"
      },
      "source": [
        "# New Section\n",
        "\n",
        "LeafGAN"
      ]
    },
    {
      "cell_type": "code",
      "metadata": {
        "id": "h7H1QixEYKpq"
      },
      "source": [
        "!git clone https://github.com/IyatomiLab/LeafGAN.git"
      ],
      "execution_count": null,
      "outputs": []
    },
    {
      "cell_type": "code",
      "metadata": {
        "id": "JP6V-kTCm228"
      },
      "source": [
        "!unzip \"/content/drive/MyDrive/LeafGAN 200.zip\" -d h2m_gan"
      ],
      "execution_count": null,
      "outputs": []
    },
    {
      "cell_type": "code",
      "metadata": {
        "id": "_Z70v6lBYX06"
      },
      "source": [
        "cd LeafGAN"
      ],
      "execution_count": null,
      "outputs": []
    },
    {
      "cell_type": "code",
      "metadata": {
        "id": "Ta6RMtmvYbo4"
      },
      "source": [
        "pip install dominate"
      ],
      "execution_count": null,
      "outputs": []
    },
    {
      "cell_type": "code",
      "metadata": {
        "id": "0yDFOYx1Y2ce"
      },
      "source": [
        "pip install scipy==1.1.0"
      ],
      "execution_count": null,
      "outputs": []
    },
    {
      "cell_type": "code",
      "metadata": {
        "id": "9lvfSi9DYdO0"
      },
      "source": [
        "!python train.py --dataroot /content/h2m/h2m --name h2m_gan --model cycle_gan --display_id -1 --niter 150 --niter_decay 50 --checkpoints_dir /content/h2m_gan --input_nc 3 --output_nc 3 --epoch_count 130 --continue_train"
      ],
      "execution_count": null,
      "outputs": []
    },
    {
      "cell_type": "code",
      "metadata": {
        "id": "GD--JjqNHeVc"
      },
      "source": [
        "!python test.py --dataroot /content/h2m/h2m --name LeafGAN_200 --model cycle_gan --checkpoints_dir /content/h2m_gan --input_nc 3 --output_nc 3 --num_test 500"
      ],
      "execution_count": null,
      "outputs": []
    },
    {
      "cell_type": "code",
      "metadata": {
        "id": "xebTX39EE7cQ"
      },
      "source": [
        "!zip -r /content/LeafGAN_Test.zip /content/LeafGAN/results/LeafGAN_200/test_latest/images"
      ],
      "execution_count": null,
      "outputs": []
    }
  ]
}